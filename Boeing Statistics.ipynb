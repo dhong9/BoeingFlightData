{
 "cells": [
  {
   "cell_type": "code",
   "execution_count": 1,
   "metadata": {},
   "outputs": [],
   "source": [
    "import pandas as pd\n",
    "landings = pd.read_csv(\"air-traffic-landings-statistics.csv\")"
   ]
  },
  {
   "cell_type": "markdown",
   "metadata": {},
   "source": [
    "### Quick Analysis\n",
    "After reading the data, I take a quick glance at it to see what kind of data I am working with."
   ]
  },
  {
   "cell_type": "code",
   "execution_count": 2,
   "metadata": {},
   "outputs": [
    {
     "data": {
      "text/html": [
       "<div>\n",
       "<style scoped>\n",
       "    .dataframe tbody tr th:only-of-type {\n",
       "        vertical-align: middle;\n",
       "    }\n",
       "\n",
       "    .dataframe tbody tr th {\n",
       "        vertical-align: top;\n",
       "    }\n",
       "\n",
       "    .dataframe thead th {\n",
       "        text-align: right;\n",
       "    }\n",
       "</style>\n",
       "<table border=\"1\" class=\"dataframe\">\n",
       "  <thead>\n",
       "    <tr style=\"text-align: right;\">\n",
       "      <th></th>\n",
       "      <th>Activity Period</th>\n",
       "      <th>Operating Airline</th>\n",
       "      <th>Operating Airline IATA Code</th>\n",
       "      <th>Published Airline</th>\n",
       "      <th>Published Airline IATA Code</th>\n",
       "      <th>GEO Summary</th>\n",
       "      <th>GEO Region</th>\n",
       "      <th>Landing Aircraft Type</th>\n",
       "      <th>Aircraft Body Type</th>\n",
       "      <th>Aircraft Manufacturer</th>\n",
       "      <th>Aircraft Model</th>\n",
       "      <th>Aircraft Version</th>\n",
       "      <th>Landing Count</th>\n",
       "      <th>Total Landed Weight</th>\n",
       "    </tr>\n",
       "  </thead>\n",
       "  <tbody>\n",
       "    <tr>\n",
       "      <th>0</th>\n",
       "      <td>200204</td>\n",
       "      <td>ATA Airlines</td>\n",
       "      <td>TZ</td>\n",
       "      <td>ATA Airlines</td>\n",
       "      <td>TZ</td>\n",
       "      <td>Domestic</td>\n",
       "      <td>US</td>\n",
       "      <td>Passenger</td>\n",
       "      <td>Narrow Body</td>\n",
       "      <td>Boeing</td>\n",
       "      <td>757</td>\n",
       "      <td>200</td>\n",
       "      <td>83</td>\n",
       "      <td>16434000</td>\n",
       "    </tr>\n",
       "    <tr>\n",
       "      <th>1</th>\n",
       "      <td>200204</td>\n",
       "      <td>ATA Airlines</td>\n",
       "      <td>TZ</td>\n",
       "      <td>ATA Airlines</td>\n",
       "      <td>TZ</td>\n",
       "      <td>Domestic</td>\n",
       "      <td>US</td>\n",
       "      <td>Passenger</td>\n",
       "      <td>Narrow Body</td>\n",
       "      <td>Boeing</td>\n",
       "      <td>757</td>\n",
       "      <td>300</td>\n",
       "      <td>3</td>\n",
       "      <td>672000</td>\n",
       "    </tr>\n",
       "    <tr>\n",
       "      <th>2</th>\n",
       "      <td>200204</td>\n",
       "      <td>ATA Airlines</td>\n",
       "      <td>TZ</td>\n",
       "      <td>ATA Airlines</td>\n",
       "      <td>TZ</td>\n",
       "      <td>Domestic</td>\n",
       "      <td>US</td>\n",
       "      <td>Passenger</td>\n",
       "      <td>Wide Body</td>\n",
       "      <td>Lockheed</td>\n",
       "      <td>L1011</td>\n",
       "      <td>0</td>\n",
       "      <td>27</td>\n",
       "      <td>9666000</td>\n",
       "    </tr>\n",
       "    <tr>\n",
       "      <th>3</th>\n",
       "      <td>200204</td>\n",
       "      <td>Aeroflot Russian International Airlines</td>\n",
       "      <td>NaN</td>\n",
       "      <td>Aeroflot Russian International Airlines</td>\n",
       "      <td>NaN</td>\n",
       "      <td>International</td>\n",
       "      <td>Europe</td>\n",
       "      <td>Passenger</td>\n",
       "      <td>Wide Body</td>\n",
       "      <td>Boeing</td>\n",
       "      <td>777</td>\n",
       "      <td>0</td>\n",
       "      <td>9</td>\n",
       "      <td>4139946</td>\n",
       "    </tr>\n",
       "    <tr>\n",
       "      <th>4</th>\n",
       "      <td>200204</td>\n",
       "      <td>Air Canada</td>\n",
       "      <td>AC</td>\n",
       "      <td>Air Canada</td>\n",
       "      <td>AC</td>\n",
       "      <td>International</td>\n",
       "      <td>Canada</td>\n",
       "      <td>Passenger</td>\n",
       "      <td>Narrow Body</td>\n",
       "      <td>Boeing</td>\n",
       "      <td>737</td>\n",
       "      <td>200</td>\n",
       "      <td>5</td>\n",
       "      <td>525000</td>\n",
       "    </tr>\n",
       "  </tbody>\n",
       "</table>\n",
       "</div>"
      ],
      "text/plain": [
       "   Activity Period                        Operating Airline  \\\n",
       "0           200204                             ATA Airlines   \n",
       "1           200204                             ATA Airlines   \n",
       "2           200204                             ATA Airlines   \n",
       "3           200204  Aeroflot Russian International Airlines   \n",
       "4           200204                               Air Canada   \n",
       "\n",
       "  Operating Airline IATA Code                        Published Airline  \\\n",
       "0                          TZ                             ATA Airlines   \n",
       "1                          TZ                             ATA Airlines   \n",
       "2                          TZ                             ATA Airlines   \n",
       "3                         NaN  Aeroflot Russian International Airlines   \n",
       "4                          AC                               Air Canada   \n",
       "\n",
       "  Published Airline IATA Code    GEO Summary GEO Region Landing Aircraft Type  \\\n",
       "0                          TZ       Domestic         US             Passenger   \n",
       "1                          TZ       Domestic         US             Passenger   \n",
       "2                          TZ       Domestic         US             Passenger   \n",
       "3                         NaN  International     Europe             Passenger   \n",
       "4                          AC  International     Canada             Passenger   \n",
       "\n",
       "  Aircraft Body Type Aircraft Manufacturer Aircraft Model Aircraft Version  \\\n",
       "0        Narrow Body                Boeing            757              200   \n",
       "1        Narrow Body                Boeing            757              300   \n",
       "2          Wide Body              Lockheed          L1011                0   \n",
       "3          Wide Body                Boeing            777                0   \n",
       "4        Narrow Body                Boeing            737              200   \n",
       "\n",
       "   Landing Count  Total Landed Weight  \n",
       "0             83             16434000  \n",
       "1              3               672000  \n",
       "2             27              9666000  \n",
       "3              9              4139946  \n",
       "4              5               525000  "
      ]
     },
     "execution_count": 2,
     "metadata": {},
     "output_type": "execute_result"
    }
   ],
   "source": [
    "landings.head()"
   ]
  },
  {
   "cell_type": "markdown",
   "metadata": {},
   "source": [
    "#### Most Used Aircraft Manufacturer\n",
    "The following plot shows how much the aircrafts were used from each manufacturer."
   ]
  },
  {
   "cell_type": "code",
   "execution_count": 3,
   "metadata": {},
   "outputs": [
    {
     "data": {
      "text/plain": [
       "<matplotlib.axes._subplots.AxesSubplot at 0x7f41d429a6d8>"
      ]
     },
     "execution_count": 3,
     "metadata": {},
     "output_type": "execute_result"
    }
   ],
   "source": [
    "landings.groupby(\"Aircraft Manufacturer\").size().plot.barh(figsize=(10,5))"
   ]
  },
  {
   "cell_type": "markdown",
   "metadata": {},
   "source": [
    "According to this plot, people use Boeing Aircrafts the most. I then look at this from a different angle and get the total landing counts from each Aircraft Manufacturer.\n",
    "#### Most Landings"
   ]
  },
  {
   "cell_type": "code",
   "execution_count": 4,
   "metadata": {},
   "outputs": [
    {
     "data": {
      "text/plain": [
       "<matplotlib.axes._subplots.AxesSubplot at 0x7f41d1f57ac8>"
      ]
     },
     "execution_count": 4,
     "metadata": {},
     "output_type": "execute_result"
    },
    {
     "data": {
      "image/png": "[encoded data removed]",
      "text/plain": [
       "<Figure size 720x360 with 1 Axes>"
      ]
     },
     "metadata": {
      "needs_background": "light"
     },
     "output_type": "display_data"
    }
   ],
   "source": [
    "landings[[\"Aircraft Manufacturer\", \"Landing Count\"]].groupby(\"Aircraft Manufacturer\").agg(\"sum\").plot.barh(figsize=(10,5))"
   ]
  },
  {
   "cell_type": "markdown",
   "metadata": {},
   "source": [
    "According to this plot, Boeing has the most number of landings. These two plots show that Boeing is the most used Aircraft Manufacturer.\n",
    "### Diving Deeper Into Boeing\n",
    "First, I filter out all of the non-Boeing data."
   ]
  },
  {
   "cell_type": "code",
   "execution_count": 5,
   "metadata": {},
   "outputs": [],
   "source": [
    "boeing = landings[landings[\"Aircraft Manufacturer\"] == \"Boeing\"]"
   ]
  },
  {
   "cell_type": "markdown",
   "metadata": {},
   "source": [
    "So now the data looks like this:"
   ]
  },
  {
   "cell_type": "code",
   "execution_count": 6,
   "metadata": {},
   "outputs": [
    {
     "data": {
      "text/html": [
       "<div>\n",
       "<style scoped>\n",
       "    .dataframe tbody tr th:only-of-type {\n",
       "        vertical-align: middle;\n",
       "    }\n",
       "\n",
       "    .dataframe tbody tr th {\n",
       "        vertical-align: top;\n",
       "    }\n",
       "\n",
       "    .dataframe thead th {\n",
       "        text-align: right;\n",
       "    }\n",
       "</style>\n",
       "<table border=\"1\" class=\"dataframe\">\n",
       "  <thead>\n",
       "    <tr style=\"text-align: right;\">\n",
       "      <th></th>\n",
       "      <th>Activity Period</th>\n",
       "      <th>Operating Airline</th>\n",
       "      <th>Operating Airline IATA Code</th>\n",
       "      <th>Published Airline</th>\n",
       "      <th>Published Airline IATA Code</th>\n",
       "      <th>GEO Summary</th>\n",
       "      <th>GEO Region</th>\n",
       "      <th>Landing Aircraft Type</th>\n",
       "      <th>Aircraft Body Type</th>\n",
       "      <th>Aircraft Manufacturer</th>\n",
       "      <th>Aircraft Model</th>\n",
       "      <th>Aircraft Version</th>\n",
       "      <th>Landing Count</th>\n",
       "      <th>Total Landed Weight</th>\n",
       "    </tr>\n",
       "  </thead>\n",
       "  <tbody>\n",
       "    <tr>\n",
       "      <th>0</th>\n",
       "      <td>200204</td>\n",
       "      <td>ATA Airlines</td>\n",
       "      <td>TZ</td>\n",
       "      <td>ATA Airlines</td>\n",
       "      <td>TZ</td>\n",
       "      <td>Domestic</td>\n",
       "      <td>US</td>\n",
       "      <td>Passenger</td>\n",
       "      <td>Narrow Body</td>\n",
       "      <td>Boeing</td>\n",
       "      <td>757</td>\n",
       "      <td>200</td>\n",
       "      <td>83</td>\n",
       "      <td>16434000</td>\n",
       "    </tr>\n",
       "    <tr>\n",
       "      <th>1</th>\n",
       "      <td>200204</td>\n",
       "      <td>ATA Airlines</td>\n",
       "      <td>TZ</td>\n",
       "      <td>ATA Airlines</td>\n",
       "      <td>TZ</td>\n",
       "      <td>Domestic</td>\n",
       "      <td>US</td>\n",
       "      <td>Passenger</td>\n",
       "      <td>Narrow Body</td>\n",
       "      <td>Boeing</td>\n",
       "      <td>757</td>\n",
       "      <td>300</td>\n",
       "      <td>3</td>\n",
       "      <td>672000</td>\n",
       "    </tr>\n",
       "    <tr>\n",
       "      <th>3</th>\n",
       "      <td>200204</td>\n",
       "      <td>Aeroflot Russian International Airlines</td>\n",
       "      <td>NaN</td>\n",
       "      <td>Aeroflot Russian International Airlines</td>\n",
       "      <td>NaN</td>\n",
       "      <td>International</td>\n",
       "      <td>Europe</td>\n",
       "      <td>Passenger</td>\n",
       "      <td>Wide Body</td>\n",
       "      <td>Boeing</td>\n",
       "      <td>777</td>\n",
       "      <td>0</td>\n",
       "      <td>9</td>\n",
       "      <td>4139946</td>\n",
       "    </tr>\n",
       "    <tr>\n",
       "      <th>4</th>\n",
       "      <td>200204</td>\n",
       "      <td>Air Canada</td>\n",
       "      <td>AC</td>\n",
       "      <td>Air Canada</td>\n",
       "      <td>AC</td>\n",
       "      <td>International</td>\n",
       "      <td>Canada</td>\n",
       "      <td>Passenger</td>\n",
       "      <td>Narrow Body</td>\n",
       "      <td>Boeing</td>\n",
       "      <td>737</td>\n",
       "      <td>200</td>\n",
       "      <td>5</td>\n",
       "      <td>525000</td>\n",
       "    </tr>\n",
       "    <tr>\n",
       "      <th>5</th>\n",
       "      <td>200204</td>\n",
       "      <td>Air Canada</td>\n",
       "      <td>AC</td>\n",
       "      <td>Air Canada</td>\n",
       "      <td>AC</td>\n",
       "      <td>International</td>\n",
       "      <td>Canada</td>\n",
       "      <td>Passenger</td>\n",
       "      <td>Narrow Body</td>\n",
       "      <td>Boeing</td>\n",
       "      <td>737</td>\n",
       "      <td>NaN</td>\n",
       "      <td>15</td>\n",
       "      <td>1605000</td>\n",
       "    </tr>\n",
       "  </tbody>\n",
       "</table>\n",
       "</div>"
      ],
      "text/plain": [
       "   Activity Period                        Operating Airline  \\\n",
       "0           200204                             ATA Airlines   \n",
       "1           200204                             ATA Airlines   \n",
       "3           200204  Aeroflot Russian International Airlines   \n",
       "4           200204                               Air Canada   \n",
       "5           200204                               Air Canada   \n",
       "\n",
       "  Operating Airline IATA Code                        Published Airline  \\\n",
       "0                          TZ                             ATA Airlines   \n",
       "1                          TZ                             ATA Airlines   \n",
       "3                         NaN  Aeroflot Russian International Airlines   \n",
       "4                          AC                               Air Canada   \n",
       "5                          AC                               Air Canada   \n",
       "\n",
       "  Published Airline IATA Code    GEO Summary GEO Region Landing Aircraft Type  \\\n",
       "0                          TZ       Domestic         US             Passenger   \n",
       "1                          TZ       Domestic         US             Passenger   \n",
       "3                         NaN  International     Europe             Passenger   \n",
       "4                          AC  International     Canada             Passenger   \n",
       "5                          AC  International     Canada             Passenger   \n",
       "\n",
       "  Aircraft Body Type Aircraft Manufacturer Aircraft Model Aircraft Version  \\\n",
       "0        Narrow Body                Boeing            757              200   \n",
       "1        Narrow Body                Boeing            757              300   \n",
       "3          Wide Body                Boeing            777                0   \n",
       "4        Narrow Body                Boeing            737              200   \n",
       "5        Narrow Body                Boeing            737              NaN   \n",
       "\n",
       "   Landing Count  Total Landed Weight  \n",
       "0             83             16434000  \n",
       "1              3               672000  \n",
       "3              9              4139946  \n",
       "4              5               525000  \n",
       "5             15              1605000  "
      ]
     },
     "execution_count": 6,
     "metadata": {},
     "output_type": "execute_result"
    }
   ],
   "source": [
    "boeing.head()"
   ]
  },
  {
   "cell_type": "markdown",
   "metadata": {},
   "source": [
    "Then, I look at how much each of the models are used."
   ]
  },
  {
   "cell_type": "code",
   "execution_count": 7,
   "metadata": {},
   "outputs": [
    {
     "data": {
      "text/plain": [
       "<matplotlib.axes._subplots.AxesSubplot at 0x7f41d1e886a0>"
      ]
     },
     "execution_count": 7,
     "metadata": {},
     "output_type": "execute_result"
    },
    {
     "data": {
      "image/png": "[encoded data removed]",
      "text/plain": [
       "<Figure size 720x360 with 1 Axes>"
      ]
     },
     "metadata": {
      "needs_background": "light"
     },
     "output_type": "display_data"
    }
   ],
   "source": [
    "boeing.groupby(\"Aircraft Model\").size().plot.barh(figsize=(10,5))"
   ]
  },
  {
   "cell_type": "markdown",
   "metadata": {},
   "source": [
    "So the 737 and the 747 are the two most widely used models, both of which are over 3000 uses."
   ]
  },
  {
   "cell_type": "code",
   "execution_count": null,
   "metadata": {},
   "outputs": [],
   "source": []
  }
 ],
 "metadata": {
  "kernelspec": {
   "display_name": "Python 3",
   "language": "python",
   "name": "python3"
  },
  "language_info": {
   "codemirror_mode": {
    "name": "ipython",
    "version": 3
   },
   "file_extension": ".py",
   "mimetype": "text/x-python",
   "name": "python",
   "nbconvert_exporter": "python",
   "pygments_lexer": "ipython3",
   "version": "3.6.7"
  }
 },
 "nbformat": 4,
 "nbformat_minor": 2
}
